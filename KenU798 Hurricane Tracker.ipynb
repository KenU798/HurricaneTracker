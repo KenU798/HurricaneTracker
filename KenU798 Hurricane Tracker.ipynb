{
 "cells": [
  {
   "cell_type": "markdown",
   "metadata": {},
   "source": [
    "# Interactive Hurricane/Topical Storm Tracker using Folium\n",
    "\n",
    "by [Ken Urquhart](https://linkedin.com/in/kenu)\n",
    "\n",
    "Publicly available data from the National Hurricane Center:\n",
    "\n",
    "https://www.nhc.noaa.gov/gis/\n",
    "\n",
    "provides a lot of useful information about tropical storms and hurricanes that you can create yourself instead of waiting for updates from news services.\n",
    "\n",
    "Find out if you are in the latest predicted path? What the winds might be? Are you in a storm surge area?\n",
    "\n",
    "This notebook shows you how to:\n",
    "\n",
    "* Work with files no matter what OS you are running on using `pathlib`\n",
    "\n",
    "* Work with files (and ZIP'd files) located on Internet servers using `urllib` and `zipfile`\n",
    "\n",
    "* Work with `shapely` and `KML` geographic data using `geopandas`...\n",
    "* ...including the (lesser known) tricks for working with `KML` and `KMZ` geographic files\n",
    "\n",
    "* Create interactive maps or geographic data using `folium` and `folium plugins`\n",
    "* Work with color maps and tooltips to annotate maps with geographic information\n",
    "* Build layered maps when you have a lot of information to visualize\n",
    "\n",
    "* Use of `regular expressions` to clean up data columns in `pandas` and `geopandas`\n",
    "\n",
    "So let's get started...\n",
    "\n",
    "Load all the libraries we are going to use."
   ]
  },
  {
   "cell_type": "code",
   "execution_count": null,
   "metadata": {
    "ExecuteTime": {
     "end_time": "2018-11-28T12:43:13.849242Z",
     "start_time": "2018-11-28T12:43:12.776957Z"
    },
    "scrolled": true
   },
   "outputs": [],
   "source": [
    "import matplotlib.pyplot as plt\n",
    "import datetime\n",
    "import folium\n",
    "from folium import plugins\n",
    "import geopandas as gpd\n",
    "import fiona\n",
    "from shapely.geometry import Polygon, box\n",
    "import numpy as np\n",
    "import pandas as pd\n",
    "\n",
    "from io import BytesIO\n",
    "from urllib.request import urlopen\n",
    "from zipfile import ZipFile\n",
    "\n",
    "import shutil\n",
    "from pathlib import Path\n",
    "\n",
    "pd.set_option('display.max_columns', None)"
   ]
  },
  {
   "cell_type": "markdown",
   "metadata": {},
   "source": [
    "# >> Artemis 1 and Tropical Storm / Hurricane Ian\n",
    "\n",
    "As of Sunday September 25, 2022, Tropical Storm Ian is threatening to become a hurricane and may pass near the Kennedy Space Center (KSC). Artemis 1 is on Launch Pad 39B and may be returned to the Vehicle Assembly Building to ride out the storm.\n",
    "\n",
    "I've added a marker for Launch Pad 39B so you can see how close TS/Hurricane Ian may come to the KSC and what kinds of winds are expected."
   ]
  },
  {
   "cell_type": "markdown",
   "metadata": {},
   "source": [
    "## Storm reference code\n",
    "\n",
    "The National Hurricane Center identifies all digital storm information by two-letter and 6 digit code. The first two letters indicate which ocean the storm is in (e.g. **al** means Atlantic and **ep** means Eastern Pacific). This is followed by a 2-digit storm number and the 4-digit year. Storm numbers begin with **01**.\n",
    "\n",
    "So data files associated with Tropical Storms and Hurricanes have codes like:"
   ]
  },
  {
   "cell_type": "code",
   "execution_count": null,
   "metadata": {},
   "outputs": [],
   "source": [
    "storm = 'al092022'\n",
    "storm_name = 'TS Ian'"
   ]
  },
  {
   "cell_type": "markdown",
   "metadata": {},
   "source": [
    "## About map projections...\n",
    "\n",
    "The world is a sphere (more or less) and we visualize it using flat maps. That means having to project a part of a sphere onto a flat surface. We use different projections to minimize distortion of the area on the world sphere we are making the map of. A full discussion of projections is a notebook in itself. You can read more about it here:\n",
    "\n",
    "https://source.opennews.org/articles/choosing-right-map-projection/\n",
    "\n",
    "The best projection to render North America reasonably well on a flat surface is 9311. All `folium` maps assume a projection of `EPSG:4326`. While we work with U.S. map data in the `EPSG;9311` projection, we need to re-project them into the folium default for display."
   ]
  },
  {
   "cell_type": "code",
   "execution_count": null,
   "metadata": {},
   "outputs": [],
   "source": [
    "epsg_project = 'EPSG:9311'\n",
    "epsg_folium = 'EPSG:4326'"
   ]
  },
  {
   "cell_type": "markdown",
   "metadata": {},
   "source": [
    "# Get the storm data from the NHS\n",
    "\n",
    "Publicly available storm data is available for download at:\n",
    "\n",
    "https://www.nhc.noaa.gov/gis/\n",
    "\n",
    "There are 5 interesting data products:\n",
    "\n",
    "1. Advisory forecast track: the \"most likely\" path the storm will take (as a line and as a set of points ordered by by date and time)\n",
    "2. Storm cone of uncertainty: region the path of the storm could take over the next few days\n",
    "3. Storm surge: lines along the coast where the storm can cause sea water to surge and cause flooding\n",
    "4. Arrival Time of Tropical Storm Force Winds: best estimate when storm winds will arrive at a given location\n",
    "5. Wind field probabilities: estimate of how high wind speeds could be over the next 5 days as the storm moves\n",
    "\n",
    "Let's get the storm data..."
   ]
  },
  {
   "cell_type": "code",
   "execution_count": null,
   "metadata": {},
   "outputs": [],
   "source": [
    "sdir = Path('raw_data')\n",
    "if sdir.is_dir():\n",
    "    shutil.rmtree(sdir)\n",
    "sdir.mkdir()"
   ]
  },
  {
   "cell_type": "code",
   "execution_count": null,
   "metadata": {
    "scrolled": true
   },
   "outputs": [],
   "source": [
    "zipurl = f'https://www.nhc.noaa.gov/gis/forecast/archive/{storm}_5day_latest.zip'\n",
    "zipurl"
   ]
  },
  {
   "cell_type": "code",
   "execution_count": null,
   "metadata": {
    "scrolled": false
   },
   "outputs": [],
   "source": [
    "subFolder = sdir / f'{storm}_5day_latest/'\n",
    "print(subFolder)\n",
    "with urlopen(zipurl) as zipresp:\n",
    "    with ZipFile(BytesIO(zipresp.read())) as zfile:\n",
    "        zfile.extractall(subFolder)"
   ]
  },
  {
   "cell_type": "markdown",
   "metadata": {},
   "source": [
    "## 1. Advisory forecast track (as a line and date/time points)"
   ]
  },
  {
   "cell_type": "code",
   "execution_count": null,
   "metadata": {},
   "outputs": [],
   "source": [
    "for file in subFolder.glob('*_5day_lin.shp'):\n",
    "    track_line = file\n",
    "    break\n",
    "track_line"
   ]
  },
  {
   "cell_type": "markdown",
   "metadata": {},
   "source": [
    "Peel off the storm prediction run number and use it for output folder and file naming..."
   ]
  },
  {
   "cell_type": "code",
   "execution_count": null,
   "metadata": {},
   "outputs": [],
   "source": [
    "t = str(track_line)\n",
    "t_s = storm + '-'\n",
    "t_e = '_5day_lin.shp'\n",
    "gen = t[t.find(t_s)+len(t_s):t.rfind(t_e)]\n",
    "gen"
   ]
  },
  {
   "cell_type": "markdown",
   "metadata": {},
   "source": [
    "Date and time stamp for this run"
   ]
  },
  {
   "cell_type": "code",
   "execution_count": null,
   "metadata": {},
   "outputs": [],
   "source": [
    "dateStr = datetime.datetime.today().strftime('%Y%m%d') + f'_{gen}_{storm_name}'\n",
    "dateStr"
   ]
  },
  {
   "cell_type": "code",
   "execution_count": null,
   "metadata": {},
   "outputs": [],
   "source": [
    "pathStr = Path(dateStr)\n",
    "pathStr"
   ]
  },
  {
   "cell_type": "markdown",
   "metadata": {},
   "source": [
    "Create the output directory for this storm prediction run."
   ]
  },
  {
   "cell_type": "code",
   "execution_count": null,
   "metadata": {},
   "outputs": [],
   "source": [
    "if pathStr.is_dir():\n",
    "    print (\"Directory '%s' already exists\" % pathStr)\n",
    "else:\n",
    "    try:\n",
    "        pathStr.mkdir()\n",
    "    except OSError:\n",
    "        print (\"Failed to create directory '%s'\" % pathStr)\n",
    "    else:\n",
    "        print (\"Created directory '%s'\" % pathStr)"
   ]
  },
  {
   "cell_type": "markdown",
   "metadata": {},
   "source": [
    "### Advisory storm track line data\n",
    "\n",
    "You can display the data in any `geopandas` dataframe by calling `.plot()`"
   ]
  },
  {
   "cell_type": "code",
   "execution_count": null,
   "metadata": {},
   "outputs": [],
   "source": [
    "gdf_storm_line = gpd.read_file(track_line)\n",
    "gdf_storm_line.crs = epsg_folium\n",
    "gdf_storm_line.plot()"
   ]
  },
  {
   "cell_type": "markdown",
   "metadata": {},
   "source": [
    "### Advisory storm track points data"
   ]
  },
  {
   "cell_type": "code",
   "execution_count": null,
   "metadata": {},
   "outputs": [],
   "source": [
    "for file in subFolder.glob('*_5day_pts.shp'):\n",
    "    track_pts = file\n",
    "    break\n",
    "track_pts\n",
    "\n",
    "gdf_storm_points = gpd.read_file(track_pts)\n",
    "gdf_storm_points.crs = epsg_folium\n",
    "gdf_storm_points.plot()"
   ]
  },
  {
   "cell_type": "code",
   "execution_count": null,
   "metadata": {},
   "outputs": [],
   "source": [
    "gdf_storm_points.head(2)"
   ]
  },
  {
   "cell_type": "markdown",
   "metadata": {},
   "source": [
    "## 2. Storm cone of uncertainty\n",
    "\n",
    "Software that calculates the path of tropical storms and hurricanes uses statistics to determine probable paths of the eye of the storm. The eye can wander around anywhere inside that cone of uncertainty. The farther in the future the projected storm path, the wider the uncertaintly. So you get this ice cream cone shaped (comma shaped?) envelope surrounding the *most probable* eye path downloaded in section 1."
   ]
  },
  {
   "cell_type": "code",
   "execution_count": null,
   "metadata": {},
   "outputs": [],
   "source": [
    "for file in subFolder.glob('*_5day_pgn.shp'):\n",
    "    track_env = file\n",
    "    break\n",
    "track_env"
   ]
  },
  {
   "cell_type": "code",
   "execution_count": null,
   "metadata": {},
   "outputs": [],
   "source": [
    "gdf_storm_envelope_1 = gpd.read_file(track_env)\n",
    "gdf_storm_envelope_1.crs = epsg_folium\n",
    "gdf_storm_envelope_1.plot()"
   ]
  },
  {
   "cell_type": "markdown",
   "metadata": {},
   "source": [
    "Since we want the map we make to center around this storm envelope, we need to calculate the centroid and then center the map around it."
   ]
  },
  {
   "cell_type": "code",
   "execution_count": null,
   "metadata": {},
   "outputs": [],
   "source": [
    "def getXY(pt):\n",
    "    return (pt.x, pt.y)\n",
    "\n",
    "gdf_storm_envelope_1['geometry'].crs = epsg_project\n",
    "centroidseries = gdf_storm_envelope_1['geometry'].centroid\n",
    "gdf_storm_envelope_1['geometry'].crs = epsg_folium\n",
    "\n",
    "longs,lats = [list(t) for t in zip(*map(getXY, centroidseries))]\n",
    "print(lats)\n",
    "print(longs)"
   ]
  },
  {
   "cell_type": "markdown",
   "metadata": {},
   "source": [
    "## 3. Storm surge\n",
    "\n",
    "Areas of probabaly flooding due to the storm are also included in the storm data."
   ]
  },
  {
   "cell_type": "code",
   "execution_count": null,
   "metadata": {},
   "outputs": [],
   "source": [
    "do_surge = False\n",
    "\n",
    "for file in subFolder.glob('*_ww_wwlin.shp'):\n",
    "    track_surge = file\n",
    "    display(track_surge)\n",
    "    do_surge = True\n",
    "    break\n",
    "else:\n",
    "    print('No surge data')\n",
    "print('do_surge = ', do_surge)"
   ]
  },
  {
   "cell_type": "code",
   "execution_count": null,
   "metadata": {},
   "outputs": [],
   "source": [
    "try:\n",
    "    gdf_wwlin = gpd.read_file(track_surge)\n",
    "    gdf_wwlin.crs = epsg_folium\n",
    "    gdf_wwlin.plot()\n",
    "except:\n",
    "    do_surge = False\n",
    "    \n",
    "print(do_surge)"
   ]
  },
  {
   "cell_type": "markdown",
   "metadata": {},
   "source": [
    "## 4. Arrival Time of Tropical Storm Force Winds\n",
    "\n",
    "Reading a KMZ file into geopandas...is not a straightforward process (though that may change in a future update).\n",
    "\n",
    "* Enable `fiona` to read `KML` files\n",
    "* Download the KMZ file and unzip it into a directory\n",
    "* Read the KML file in that directory to a `geopandas` file"
   ]
  },
  {
   "cell_type": "code",
   "execution_count": null,
   "metadata": {},
   "outputs": [],
   "source": [
    "do_wind = True"
   ]
  },
  {
   "cell_type": "code",
   "execution_count": null,
   "metadata": {},
   "outputs": [],
   "source": [
    "gpd.io.file.fiona.drvsupport.supported_drivers['KML'] = 'rw'"
   ]
  },
  {
   "cell_type": "code",
   "execution_count": null,
   "metadata": {},
   "outputs": [],
   "source": [
    "zipurl = f'https://www.nhc.noaa.gov/storm_graphics/api/{storm.upper()}_most_likely_toa_34_latest.kmz'\n",
    "print(zipurl)"
   ]
  },
  {
   "cell_type": "code",
   "execution_count": null,
   "metadata": {},
   "outputs": [],
   "source": [
    "outKML = Path(sdir / str(storm.upper() + '_kml/'))\n",
    "with urlopen(zipurl) as zipresp:\n",
    "    with ZipFile(BytesIO(zipresp.read())) as zfile:\n",
    "        zfile.extractall(outKML)"
   ]
  },
  {
   "cell_type": "code",
   "execution_count": null,
   "metadata": {},
   "outputs": [],
   "source": [
    "for file in outKML.glob('*.kml'):\n",
    "    inKML = file\n",
    "    break\n",
    "inKML"
   ]
  },
  {
   "cell_type": "code",
   "execution_count": null,
   "metadata": {},
   "outputs": [],
   "source": [
    "gdf_winds = gpd.read_file(inKML, driver='KML')\n",
    "gdf_winds = gdf_winds[gdf_winds['geometry'].geom_type == 'LineString']\n",
    "gdf_winds"
   ]
  },
  {
   "cell_type": "code",
   "execution_count": null,
   "metadata": {},
   "outputs": [],
   "source": [
    "import re\n",
    "gdf_winds['Description'] = gdf_winds['Description'].apply(lambda x: re.sub('<[^<]+?>', '', x).strip())"
   ]
  },
  {
   "cell_type": "code",
   "execution_count": null,
   "metadata": {},
   "outputs": [],
   "source": [
    "gdf_winds.reset_index(drop=True, inplace=True)\n",
    "gdf_winds"
   ]
  },
  {
   "cell_type": "code",
   "execution_count": null,
   "metadata": {},
   "outputs": [],
   "source": [
    "gdf_winds.plot()"
   ]
  },
  {
   "cell_type": "code",
   "execution_count": null,
   "metadata": {},
   "outputs": [],
   "source": [
    "pathStr / (str(pathStr) + \"_Projected_Path.html\")"
   ]
  },
  {
   "cell_type": "markdown",
   "metadata": {},
   "source": [
    "## 5. Wind field probabilities"
   ]
  },
  {
   "cell_type": "code",
   "execution_count": null,
   "metadata": {},
   "outputs": [],
   "source": [
    "zipurl = 'https://www.nhc.noaa.gov/gis/forecast/archive/wsp_120hr5km_latest.zip'\n",
    "print(zipurl)"
   ]
  },
  {
   "cell_type": "code",
   "execution_count": null,
   "metadata": {},
   "outputs": [],
   "source": [
    "windDir =  sdir / 'wsp_120hr5km_latest'\n",
    "with urlopen(zipurl) as zipresp:\n",
    "    with ZipFile(BytesIO(zipresp.read())) as zfile:\n",
    "        zfile.extractall(windDir)"
   ]
  },
  {
   "cell_type": "code",
   "execution_count": null,
   "metadata": {},
   "outputs": [],
   "source": [
    "wind_file = []\n",
    "for file in windDir.glob('*knt*.shp'):\n",
    "   wind_file.append(file) \n",
    "wind_file.sort()\n",
    "wind_file"
   ]
  },
  {
   "cell_type": "code",
   "execution_count": null,
   "metadata": {},
   "outputs": [],
   "source": [
    "gdf_wind_field = []\n",
    "for f in wind_file:\n",
    "    gwf = gpd.read_file(f)\n",
    "    gwf.crs = epsg_folium\n",
    "    gdf_wind_field.append(gwf)\n",
    "    gwf.plot()"
   ]
  },
  {
   "cell_type": "code",
   "execution_count": null,
   "metadata": {},
   "outputs": [],
   "source": [
    "gdf_wind_field[0]"
   ]
  },
  {
   "cell_type": "markdown",
   "metadata": {},
   "source": [
    "Create a color map for the wind fields..."
   ]
  },
  {
   "cell_type": "code",
   "execution_count": null,
   "metadata": {},
   "outputs": [],
   "source": [
    "import matplotlib.colors as colors\n",
    "import matplotlib.cm as cmx\n",
    "\n",
    "cm = plt.get_cmap('RdYlGn_r')#'Spectral_r') \n",
    "cNorm  = colors.Normalize(vmin=0, vmax=11)\n",
    "scalarMap = cmx.ScalarMappable(norm=cNorm, cmap=cm)"
   ]
  },
  {
   "cell_type": "markdown",
   "metadata": {},
   "source": [
    "# Folium Maps\n",
    "\n",
    "Generate a new folium map and add a marker for Launch Pad 39B where Artemis 1 launches from.\n",
    "\n",
    "Values of `tiles` variable in `Map` call:\n",
    "\n",
    "* “OpenStreetMap”\n",
    "* “Mapbox Bright” (Limited levels of zoom for free tiles)\n",
    "* “Mapbox Control Room” (Limited levels of zoom for free tiles)\n",
    "* “Stamen” (Terrain, Toner, and Watercolor)\n",
    "* “Cloudmade” (Must pass API key)\n",
    "* “Mapbox” (Must pass API key)\n",
    "* “CartoDB” (positron and dark_matter)"
   ]
  },
  {
   "cell_type": "code",
   "execution_count": null,
   "metadata": {
    "scrolled": false
   },
   "outputs": [],
   "source": [
    "#do_surge = False\n",
    "#do_wind = True\n",
    "\n",
    "folium_map = folium.Map(location=[lats[0],longs[0]], zoom_start=4)#, tiles=\"CartoDB positron\")\n",
    "\n",
    "#-------------------------\n",
    "\n",
    "g_storm_track = folium.map.FeatureGroup(name=\"Storm Track\", overlay=True, control=True, show=True)\n",
    "g_eye_zone = folium.map.FeatureGroup(name=\"Eye Zone\", overlay=True, control=True, show=True)\n",
    "g_surge = folium.map.FeatureGroup(name=\"Storm Surge\", overlay=True, control=True, show=True)\n",
    "g_wind = folium.map.FeatureGroup(name=\"Wind Arrival Times\", overlay=True, control=True, show=False)\n",
    "\n",
    "g_wind_prob_34 = folium.map.FeatureGroup(name=\"Wind Prob 34kt\", overlay=True, control=True, show=False)\n",
    "g_wind_prob_50 = folium.map.FeatureGroup(name=\"Wind Prob 50kt\", overlay=True, control=True, show=False)\n",
    "g_wind_prob_64 = folium.map.FeatureGroup(name=\"Wind Prob 64kt\", overlay=True, control=True, show=False)\n",
    "\n",
    "#-------------------------\n",
    "\n",
    "g_storm_track.add_child(\n",
    "    folium.features.GeoJson(\n",
    "        gdf_storm_line,\n",
    "        style_function=lambda feature: {\n",
    "            'color' : '#0000ff',\n",
    "            'weight' : 4,\n",
    "            'fillOpacity' : 0.2\n",
    "        }\n",
    "    ))\n",
    "\n",
    "for idx, row in gdf_storm_points.iterrows():\n",
    "    tooltip_text = 'Date: ' + row.FLDATELBL + '<br>Strength: ' + row.STORMTYPE\n",
    "    marker = folium.CircleMarker(\n",
    "        [row.LAT, row.LON],\n",
    "        radius=8,\n",
    "        color='blue',\n",
    "        fill=True,\n",
    "        fill_opacity=0.3,\n",
    "        weight=2,\n",
    "        tooltip = tooltip_text)\n",
    "    g_storm_track.add_child(marker)\n",
    "\n",
    "#-------------------------\n",
    "\n",
    "g_eye_zone.add_child(\n",
    "    folium.features.GeoJson(\n",
    "        gdf_storm_envelope_1,\n",
    "        style_function=lambda feature: {\n",
    "            'fillColor': 'blue',\n",
    "            'color' : '#0000ff',\n",
    "            'weight' : 3,\n",
    "            'fillOpacity' : 0.2\n",
    "        }\n",
    "    ))\n",
    "\n",
    "#-------------------------\n",
    "\n",
    "if do_surge:\n",
    "    g_surge.add_child(\n",
    "        folium.features.GeoJson(\n",
    "            gdf_wwlin,\n",
    "            tooltip = 'Storm Surge',\n",
    "            style_function=lambda feature: {\n",
    "                'color' : '#0000ff',\n",
    "                'weight' : 4,\n",
    "                'fillOpacity' : 0.3\n",
    "            }\n",
    "        )\n",
    "    )\n",
    "\n",
    "#-------------------------\n",
    "\n",
    "if do_wind:\n",
    "    g_wind.add_child(\n",
    "        folium.features.GeoJson(\n",
    "            gdf_winds,\n",
    "            tooltip = folium.features.GeoJsonTooltip(fields=['Description'], aliases=['Wind arrives:']),\n",
    "            style_function=lambda feature: {\n",
    "                'color' : '#0000ff',\n",
    "                'weight' : 2,\n",
    "                'fillOpacity' : 0.3\n",
    "            }\n",
    "        )\n",
    "    )\n",
    "\n",
    "#-------------------------\n",
    "\n",
    "def styler(feature):\n",
    "    p = int(feature['id'])#feature['properties']['PERCENTAGE']\n",
    "    if p < 0:\n",
    "        p = -1\n",
    "    if p < 0:\n",
    "        fill_opacity = 0\n",
    "        line_weight = 0\n",
    "    else:\n",
    "        fill_opacity = 0.3\n",
    "        line_weight = 2\n",
    "    color_string = colors.to_hex(scalarMap.to_rgba(float(p)))\n",
    "    return {\n",
    "        'fillColor': color_string,\n",
    "        'color' : color_string,\n",
    "        'weight' : line_weight,\n",
    "        'fillOpacity' : fill_opacity\n",
    "    }\n",
    "\n",
    "g_wind_prob_34.add_child(\n",
    "    folium.features.GeoJson(\n",
    "        gdf_wind_field[0][gdf_wind_field[0]['geometry'] != None],\n",
    "        tooltip = folium.features.GeoJsonTooltip(fields=['PERCENTAGE'], aliases=['Prob 34 knot winds:']),\n",
    "        style_function=styler\n",
    "    )\n",
    ")\n",
    "\n",
    "g_wind_prob_50.add_child(\n",
    "    folium.features.GeoJson(\n",
    "        gdf_wind_field[1][gdf_wind_field[1]['geometry'] != None],\n",
    "        tooltip = folium.features.GeoJsonTooltip(fields=['PERCENTAGE'], aliases=['Prob 50 knot winds:']),\n",
    "        style_function=styler\n",
    "    )\n",
    ")\n",
    "\n",
    "g_wind_prob_64.add_child(\n",
    "    folium.features.GeoJson(\n",
    "        gdf_wind_field[2][gdf_wind_field[2]['geometry'] != None],\n",
    "        tooltip = folium.features.GeoJsonTooltip(fields=['PERCENTAGE'], aliases=['Prob 64 knot winds:']),\n",
    "        style_function=styler\n",
    "    )\n",
    ")\n",
    "\n",
    "#-------------------------\n",
    "\n",
    "folium_map.add_child(g_eye_zone)\n",
    "if do_surge:\n",
    "    folium_map.add_child(g_surge)\n",
    "folium_map.add_child(g_wind_prob_34)\n",
    "folium_map.add_child(g_wind_prob_50)\n",
    "folium_map.add_child(g_wind_prob_64)\n",
    "if do_wind:\n",
    "    folium_map.add_child(g_wind)\n",
    "folium_map.add_child(g_storm_track)\n",
    "\n",
    "#-------------------------\n",
    "\n",
    "folium_map.add_child(\n",
    "    folium.Marker(\n",
    "        location=[28.6272, -80.6208],\n",
    "        popup='Artemis 1 Launchpad 39B',\n",
    "        tooltip='Artemis 1 Launchpad 39B'\n",
    "    )\n",
    ")\n",
    "\n",
    "#-------------------------\n",
    "\n",
    "folium.LayerControl(collapsed=False).add_to(folium_map)\n",
    "\n",
    "#-------------------------\n",
    "\n",
    "folium_map"
   ]
  },
  {
   "cell_type": "code",
   "execution_count": null,
   "metadata": {},
   "outputs": [],
   "source": [
    "outMap = pathStr / (str(pathStr) + \"_Projected_Path.html\")\n",
    "folium_map.save(str(outMap))\n",
    "outMap"
   ]
  },
  {
   "cell_type": "code",
   "execution_count": null,
   "metadata": {},
   "outputs": [],
   "source": []
  }
 ],
 "metadata": {
  "kernelspec": {
   "display_name": "Python 3 (ipykernel)",
   "language": "python",
   "name": "python3"
  },
  "language_info": {
   "codemirror_mode": {
    "name": "ipython",
    "version": 3
   },
   "file_extension": ".py",
   "mimetype": "text/x-python",
   "name": "python",
   "nbconvert_exporter": "python",
   "pygments_lexer": "ipython3",
   "version": "3.10.6"
  },
  "varInspector": {
   "cols": {
    "lenName": 16,
    "lenType": 16,
    "lenVar": 40
   },
   "kernels_config": {
    "python": {
     "delete_cmd_postfix": "",
     "delete_cmd_prefix": "del ",
     "library": "var_list.py",
     "varRefreshCmd": "print(var_dic_list())"
    },
    "r": {
     "delete_cmd_postfix": ") ",
     "delete_cmd_prefix": "rm(",
     "library": "var_list.r",
     "varRefreshCmd": "cat(var_dic_list()) "
    }
   },
   "types_to_exclude": [
    "module",
    "function",
    "builtin_function_or_method",
    "instance",
    "_Feature"
   ],
   "window_display": false
  }
 },
 "nbformat": 4,
 "nbformat_minor": 2
}
